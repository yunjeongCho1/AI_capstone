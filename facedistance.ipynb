{
  "nbformat": 4,
  "nbformat_minor": 0,
  "metadata": {
    "colab": {
      "provenance": [],
      "mount_file_id": "11KkYKXZTdXZ1OZcMrR4W_PDmBeL-Kv3J",
      "authorship_tag": "ABX9TyPPrHuNcbvQLqeIvSMkwHNj",
      "include_colab_link": true
    },
    "kernelspec": {
      "name": "python3",
      "display_name": "Python 3"
    },
    "language_info": {
      "name": "python"
    },
    "accelerator": "GPU",
    "gpuClass": "standard"
  },
  "cells": [
    {
      "cell_type": "markdown",
      "metadata": {
        "id": "view-in-github",
        "colab_type": "text"
      },
      "source": [
        "<a href=\"https://colab.research.google.com/github/yunjeongCho1/face_recognition/blob/main/facedistance.ipynb\" target=\"_parent\"><img src=\"https://colab.research.google.com/assets/colab-badge.svg\" alt=\"Open In Colab\"/></a>"
      ]
    },
    {
      "cell_type": "code",
      "source": [
        "!pip install dlib"
      ],
      "metadata": {
        "colab": {
          "base_uri": "https://localhost:8080/"
        },
        "id": "yZXTzE1345Ye",
        "outputId": "88b5e505-fd04-4e0e-b9c2-15eac423d62a"
      },
      "execution_count": 1,
      "outputs": [
        {
          "output_type": "stream",
          "name": "stdout",
          "text": [
            "Looking in indexes: https://pypi.org/simple, https://us-python.pkg.dev/colab-wheels/public/simple/\n",
            "Requirement already satisfied: dlib in /usr/local/lib/python3.9/dist-packages (19.24.1)\n"
          ]
        }
      ]
    },
    {
      "cell_type": "code",
      "source": [
        "!pip install opencv-python\n",
        "!pip install face_recognition"
      ],
      "metadata": {
        "colab": {
          "base_uri": "https://localhost:8080/"
        },
        "id": "2kffcdHk7ldR",
        "outputId": "3f87fe93-9879-497e-e5a4-4d582eefbfa0"
      },
      "execution_count": 4,
      "outputs": [
        {
          "output_type": "stream",
          "name": "stdout",
          "text": [
            "Looking in indexes: https://pypi.org/simple, https://us-python.pkg.dev/colab-wheels/public/simple/\n",
            "Requirement already satisfied: opencv-python in /usr/local/lib/python3.9/dist-packages (4.7.0.72)\n",
            "Requirement already satisfied: numpy>=1.17.3 in /usr/local/lib/python3.9/dist-packages (from opencv-python) (1.22.4)\n",
            "Looking in indexes: https://pypi.org/simple, https://us-python.pkg.dev/colab-wheels/public/simple/\n",
            "Collecting face_recognition\n",
            "  Downloading face_recognition-1.3.0-py2.py3-none-any.whl (15 kB)\n",
            "Collecting face-recognition-models>=0.3.0\n",
            "  Downloading face_recognition_models-0.3.0.tar.gz (100.1 MB)\n",
            "\u001b[2K     \u001b[90m━━━━━━━━━━━━━━━━━━━━━━━━━━━━━━━━━━━━━━━\u001b[0m \u001b[32m100.1/100.1 MB\u001b[0m \u001b[31m9.6 MB/s\u001b[0m eta \u001b[36m0:00:00\u001b[0m\n",
            "\u001b[?25h  Preparing metadata (setup.py) ... \u001b[?25l\u001b[?25hdone\n",
            "Requirement already satisfied: Click>=6.0 in /usr/local/lib/python3.9/dist-packages (from face_recognition) (8.1.3)\n",
            "Requirement already satisfied: dlib>=19.7 in /usr/local/lib/python3.9/dist-packages (from face_recognition) (19.24.1)\n",
            "Requirement already satisfied: Pillow in /usr/local/lib/python3.9/dist-packages (from face_recognition) (8.4.0)\n",
            "Requirement already satisfied: numpy in /usr/local/lib/python3.9/dist-packages (from face_recognition) (1.22.4)\n",
            "Building wheels for collected packages: face-recognition-models\n",
            "  Building wheel for face-recognition-models (setup.py) ... \u001b[?25l\u001b[?25hdone\n",
            "  Created wheel for face-recognition-models: filename=face_recognition_models-0.3.0-py2.py3-none-any.whl size=100566185 sha256=80d446190066f999af4b0daf125ccf41effd16bac67b5e3afd838392b095f00e\n",
            "  Stored in directory: /root/.cache/pip/wheels/22/a8/60/4a2aeb763d63f50190f4c4e07069a22245347eeafdb3a67551\n",
            "Successfully built face-recognition-models\n",
            "Installing collected packages: face-recognition-models, face_recognition\n",
            "Successfully installed face-recognition-models-0.3.0 face_recognition-1.3.0\n"
          ]
        }
      ]
    },
    {
      "cell_type": "code",
      "source": [
        "import cv2\n",
        "import dlib\n",
        "import face_recognition\n",
        "import numpy as np\n",
        "\n",
        "# 이미지 불러오기\n",
        "image1_path = '/content/cho.jpg'\n",
        "image2_path = '/content/cho1.jpg'\n",
        "\n",
        "image1 = cv2.imread(image1_path)\n",
        "image2 = cv2.imread(image2_path)\n",
        "\n",
        "# 이미지에서 얼굴 인식 및 인코딩\n",
        "face_encodings1 = face_recognition.face_encodings(image1)\n",
        "face_encodings2 = face_recognition.face_encodings(image2)\n",
        "\n",
        "# 얼굴 인코딩이 존재하는지 확인\n",
        "if len(face_encodings1) > 0 and len(face_encodings2) > 0:\n",
        "    # 얼굴 간의 거리 계산\n",
        "    face_distance = np.linalg.norm(face_encodings1[0] - face_encodings2[0])\n",
        "\n",
        "    print(\"두 얼굴 간의 거리:\", face_distance)\n",
        "\n",
        "    # 동일한 얼굴인지 판단 (거리가 작을수록 더 비슷한 얼굴)\n",
        "    if face_distance < 0.6:\n",
        "        print(\"동일한 인물로 판단됩니다.\")\n",
        "    else:\n",
        "        print(\"동일한 인물이 아닌 것으로 판단됩니다.\")\n",
        "else:\n",
        "    print(\"얼굴 인식에 실패하였습니다.\")"
      ],
      "metadata": {
        "colab": {
          "base_uri": "https://localhost:8080/"
        },
        "id": "exzjDhOa7_ea",
        "outputId": "21aa863f-ae48-4525-e177-b7b885d86515"
      },
      "execution_count": 9,
      "outputs": [
        {
          "output_type": "stream",
          "name": "stdout",
          "text": [
            "두 얼굴 간의 거리: 0.4298450432916753\n",
            "동일한 인물로 판단됩니다.\n"
          ]
        }
      ]
    },
    {
      "cell_type": "code",
      "execution_count": 2,
      "metadata": {
        "id": "KYh_keVV1E1N"
      },
      "outputs": [],
      "source": [
        "def __init__(self, shape_predictor_path, face_embedding_penalty=None):\n",
        "  self.shape_predictor = ('/content/drive/MyDrive/capstone/shape_predictor_68_face_landmarks.dat')\n",
        "  self.face_embedding_penalty = face_embedding_penalty"
      ]
    },
    {
      "cell_type": "code",
      "source": [
        "def extract_landmark(self, reference_img, compare_img):\n",
        "  self.img = [reference_img, compare_img]\n",
        "  detector = dlib.get_frontal_face_detector()\n",
        "  predictor = dlib.shape_predictor(self.shape_predictor)\n",
        "  \n",
        "  image1 = "
      ],
      "metadata": {
        "id": "UfRZaG3P2__Y"
      },
      "execution_count": 3,
      "outputs": []
    }
  ]
}